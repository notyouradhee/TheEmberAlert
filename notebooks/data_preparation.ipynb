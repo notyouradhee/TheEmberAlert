{
 "cells": [
  {
   "cell_type": "markdown",
   "id": "d31b04f3",
   "metadata": {},
   "source": [
    "# API Exploration"
   ]
  },
  {
   "cell_type": "code",
   "execution_count": null,
   "id": "722ce0eb",
   "metadata": {},
   "outputs": [],
   "source": [
    "import pandas as pd\n",
    "\n",
    "\n",
    "MAP_KEY = '4d0ad89f55e8cdd9550531c43b76788f'\n",
    "url = 'https://firms.modaps.eosdis.nasa.gov/mapserver/mapkey_status/?MAP_KEY=' + MAP_KEY\n",
    "\n",
    "try:\n",
    "    df = pd.read_json(url, typ='series')\n",
    "    display(df)\n",
    "except ValueError:\n",
    "    print(\"Failed to fetch data from the URL. Please check the URL or your internet connection.\")"
   ]
  },
  {
   "cell_type": "code",
   "execution_count": null,
   "id": "30f0fce1",
   "metadata": {},
   "outputs": [],
   "source": [
    "da_url = (\n",
    "    \"https://firms.modaps.eosdis.nasa.gov/api/data_availability/csv/\" + MAP_KEY + \"/all\"\n",
    ")\n",
    "df = pd.read_csv(da_url)\n",
    "display(df)"
   ]
  },
  {
   "cell_type": "code",
   "execution_count": null,
   "id": "0cad5ace",
   "metadata": {},
   "outputs": [],
   "source": [
    "# let's create a simple function that tells us how many transactions we have used.\n",
    "# We will use this in later examples\n",
    "\n",
    "def get_transaction_count() :\n",
    "  count = 0\n",
    "  try:\n",
    "    df = pd.read_json(url,  typ='series')\n",
    "    count = df['current_transactions']\n",
    "  except:\n",
    "    print (\"Error in our call.\")\n",
    "  return count\n",
    "\n",
    "tcount = get_transaction_count()\n",
    "print ('Our current transaction count is %i' % tcount)"
   ]
  },
  {
   "cell_type": "code",
   "execution_count": null,
   "id": "bbff44b6",
   "metadata": {},
   "outputs": [],
   "source": [
    "# now let's see how many transactions we use by querying this end point\n",
    "\n",
    "start_count = get_transaction_count()\n",
    "pd.read_csv(da_url)\n",
    "end_count = get_transaction_count()\n",
    "print ('We used %i transactions.' % (end_count-start_count))\n",
    "\n",
    "# now remember, after 10 minutes this will reset"
   ]
  },
  {
   "cell_type": "markdown",
   "id": "db11ed5b",
   "metadata": {},
   "source": [
    "## API / Area"
   ]
  },
  {
   "cell_type": "code",
   "execution_count": null,
   "id": "ec2e2562",
   "metadata": {},
   "outputs": [],
   "source": [
    "# in this example let's look at VIIRS NOAA-20, entire world and the most recent day\n",
    "area_url = 'https://firms.modaps.eosdis.nasa.gov/api/area/csv/' + MAP_KEY + '/VIIRS_NOAA20_NRT/world/1'\n",
    "start_count = get_transaction_count()\n",
    "df_area = pd.read_csv(area_url)\n",
    "end_count = get_transaction_count()\n",
    "print ('We used %i transactions.' % (end_count-start_count))\n",
    "\n",
    "df_area"
   ]
  },
  {
   "cell_type": "markdown",
   "id": "e12c1773",
   "metadata": {},
   "source": [
    "## API / Countries"
   ]
  },
  {
   "cell_type": "code",
   "execution_count": null,
   "id": "b2e6b031",
   "metadata": {},
   "outputs": [],
   "source": [
    "countries_url = 'https://firms.modaps.eosdis.nasa.gov/api/countries'\n",
    "df_countries = pd.read_csv(countries_url, sep=';')\n",
    "df_countries"
   ]
  },
  {
   "cell_type": "markdown",
   "id": "86697650",
   "metadata": {},
   "source": [
    "## Country abbreviation\n",
    "- South Korea -> abbreviation = `KOR`\n",
    "- Nepal -> abbreviation = `NPL`"
   ]
  },
  {
   "cell_type": "code",
   "execution_count": null,
   "id": "e749f0ca",
   "metadata": {},
   "outputs": [],
   "source": [
    "df_countries[df_countries['abreviation'] == 'KOR']"
   ]
  },
  {
   "cell_type": "markdown",
   "id": "8e72627b",
   "metadata": {},
   "source": [
    "## Country wise `csv` data"
   ]
  },
  {
   "cell_type": "code",
   "execution_count": null,
   "id": "189f5157",
   "metadata": {},
   "outputs": [],
   "source": [
    "# Let's see last four days MODIS data for Peru\n",
    "korea_url = 'https://firms.modaps.eosdis.nasa.gov/api/country/csv/' + MAP_KEY + '/MODIS_NRT/KOR/10'\n",
    "korea_df = pd.read_csv(korea_url)\n",
    "korea_df"
   ]
  },
  {
   "cell_type": "code",
   "execution_count": null,
   "id": "310703b7",
   "metadata": {},
   "outputs": [],
   "source": [
    "len(korea_df)"
   ]
  },
  {
   "cell_type": "markdown",
   "id": "fb5a041f",
   "metadata": {},
   "source": [
    "# Pre-processing"
   ]
  },
  {
   "cell_type": "code",
   "execution_count": null,
   "id": "0157787e",
   "metadata": {},
   "outputs": [],
   "source": [
    "# install the dotenv package to read the .env file\n",
    "# !pip install python-dotenv scikit-learn joblib "
   ]
  },
  {
   "cell_type": "code",
   "execution_count": 1,
   "id": "c81195e9",
   "metadata": {},
   "outputs": [
    {
     "name": "stdout",
     "output_type": "stream",
     "text": [
      "MAP_KEY: 4d0ad89f55e8cdd9550531c43b76788f\n"
     ]
    }
   ],
   "source": [
    "from dotenv import load_dotenv\n",
    "import os\n",
    "\n",
    "# Load the .env file\n",
    "load_dotenv()\n",
    "\n",
    "# Access the MAP_KEY\n",
    "MAP_KEY = os.getenv(\"MAP_KEY\")\n",
    "\n",
    "print(\"MAP_KEY:\", MAP_KEY)  # Optional, remove in production\n"
   ]
  },
  {
   "cell_type": "code",
   "execution_count": 2,
   "id": "7acc73f5",
   "metadata": {},
   "outputs": [
    {
     "name": "stdout",
     "output_type": "stream",
     "text": [
      "[PosixPath('../data/processed/nepal_combined.csv'), PosixPath('../data/processed/korea_combined.csv')]\n"
     ]
    }
   ],
   "source": [
    "import pandas as pd\n",
    "from pathlib import Path\n",
    "\n",
    "root_dir = Path(\"../data/processed\")\n",
    "file_list = []\n",
    "for file in os.listdir(root_dir):\n",
    "    if \"combined.csv\" in file.split(\"_\"):\n",
    "        file_path = root_dir / file\n",
    "        file_list.append(file_path)\n",
    "print(file_list)"
   ]
  },
  {
   "cell_type": "code",
   "execution_count": 4,
   "id": "989511e7",
   "metadata": {},
   "outputs": [
    {
     "data": {
      "text/html": [
       "<div>\n",
       "<style scoped>\n",
       "    .dataframe tbody tr th:only-of-type {\n",
       "        vertical-align: middle;\n",
       "    }\n",
       "\n",
       "    .dataframe tbody tr th {\n",
       "        vertical-align: top;\n",
       "    }\n",
       "\n",
       "    .dataframe thead th {\n",
       "        text-align: right;\n",
       "    }\n",
       "</style>\n",
       "<table border=\"1\" class=\"dataframe\">\n",
       "  <thead>\n",
       "    <tr style=\"text-align: right;\">\n",
       "      <th></th>\n",
       "      <th>latitude</th>\n",
       "      <th>longitude</th>\n",
       "      <th>brightness</th>\n",
       "      <th>scan</th>\n",
       "      <th>track</th>\n",
       "      <th>satellite</th>\n",
       "      <th>instrument</th>\n",
       "      <th>confidence</th>\n",
       "      <th>version</th>\n",
       "      <th>bright_t31</th>\n",
       "      <th>frp</th>\n",
       "      <th>daynight</th>\n",
       "      <th>type</th>\n",
       "      <th>date</th>\n",
       "      <th>time</th>\n",
       "    </tr>\n",
       "  </thead>\n",
       "  <tbody>\n",
       "    <tr>\n",
       "      <th>0</th>\n",
       "      <td>28.5115</td>\n",
       "      <td>81.2492</td>\n",
       "      <td>300.0</td>\n",
       "      <td>1.5</td>\n",
       "      <td>1.2</td>\n",
       "      <td>Aqua</td>\n",
       "      <td>MODIS</td>\n",
       "      <td>24</td>\n",
       "      <td>6.03</td>\n",
       "      <td>288.2</td>\n",
       "      <td>6.7</td>\n",
       "      <td>D</td>\n",
       "      <td>0</td>\n",
       "      <td>13-Jan-2020</td>\n",
       "      <td>7:34:00 AM</td>\n",
       "    </tr>\n",
       "    <tr>\n",
       "      <th>1</th>\n",
       "      <td>28.5604</td>\n",
       "      <td>82.7200</td>\n",
       "      <td>305.1</td>\n",
       "      <td>1.2</td>\n",
       "      <td>1.1</td>\n",
       "      <td>Aqua</td>\n",
       "      <td>MODIS</td>\n",
       "      <td>45</td>\n",
       "      <td>6.03</td>\n",
       "      <td>294.2</td>\n",
       "      <td>8.2</td>\n",
       "      <td>D</td>\n",
       "      <td>0</td>\n",
       "      <td>13-Jan-2020</td>\n",
       "      <td>7:34:00 AM</td>\n",
       "    </tr>\n",
       "    <tr>\n",
       "      <th>2</th>\n",
       "      <td>26.6773</td>\n",
       "      <td>86.9825</td>\n",
       "      <td>317.9</td>\n",
       "      <td>1.1</td>\n",
       "      <td>1.1</td>\n",
       "      <td>Aqua</td>\n",
       "      <td>MODIS</td>\n",
       "      <td>77</td>\n",
       "      <td>6.03</td>\n",
       "      <td>295.8</td>\n",
       "      <td>14.0</td>\n",
       "      <td>D</td>\n",
       "      <td>0</td>\n",
       "      <td>15-Jan-2020</td>\n",
       "      <td>7:21:00 AM</td>\n",
       "    </tr>\n",
       "    <tr>\n",
       "      <th>3</th>\n",
       "      <td>28.3409</td>\n",
       "      <td>84.4350</td>\n",
       "      <td>304.1</td>\n",
       "      <td>1.0</td>\n",
       "      <td>1.0</td>\n",
       "      <td>Aqua</td>\n",
       "      <td>MODIS</td>\n",
       "      <td>58</td>\n",
       "      <td>6.03</td>\n",
       "      <td>282.9</td>\n",
       "      <td>8.3</td>\n",
       "      <td>D</td>\n",
       "      <td>0</td>\n",
       "      <td>20-Jan-2020</td>\n",
       "      <td>7:40:00 AM</td>\n",
       "    </tr>\n",
       "    <tr>\n",
       "      <th>4</th>\n",
       "      <td>28.6669</td>\n",
       "      <td>82.7348</td>\n",
       "      <td>307.1</td>\n",
       "      <td>1.5</td>\n",
       "      <td>1.2</td>\n",
       "      <td>Aqua</td>\n",
       "      <td>MODIS</td>\n",
       "      <td>53</td>\n",
       "      <td>6.03</td>\n",
       "      <td>284.5</td>\n",
       "      <td>16.1</td>\n",
       "      <td>D</td>\n",
       "      <td>0</td>\n",
       "      <td>22-Jan-2020</td>\n",
       "      <td>7:28:00 AM</td>\n",
       "    </tr>\n",
       "  </tbody>\n",
       "</table>\n",
       "</div>"
      ],
      "text/plain": [
       "   latitude  longitude  brightness  scan  track satellite instrument  \\\n",
       "0   28.5115    81.2492       300.0   1.5    1.2      Aqua      MODIS   \n",
       "1   28.5604    82.7200       305.1   1.2    1.1      Aqua      MODIS   \n",
       "2   26.6773    86.9825       317.9   1.1    1.1      Aqua      MODIS   \n",
       "3   28.3409    84.4350       304.1   1.0    1.0      Aqua      MODIS   \n",
       "4   28.6669    82.7348       307.1   1.5    1.2      Aqua      MODIS   \n",
       "\n",
       "   confidence  version  bright_t31   frp daynight  type         date  \\\n",
       "0          24     6.03       288.2   6.7        D     0  13-Jan-2020   \n",
       "1          45     6.03       294.2   8.2        D     0  13-Jan-2020   \n",
       "2          77     6.03       295.8  14.0        D     0  15-Jan-2020   \n",
       "3          58     6.03       282.9   8.3        D     0  20-Jan-2020   \n",
       "4          53     6.03       284.5  16.1        D     0  22-Jan-2020   \n",
       "\n",
       "         time  \n",
       "0  7:34:00 AM  \n",
       "1  7:34:00 AM  \n",
       "2  7:21:00 AM  \n",
       "3  7:40:00 AM  \n",
       "4  7:28:00 AM  "
      ]
     },
     "execution_count": 4,
     "metadata": {},
     "output_type": "execute_result"
    }
   ],
   "source": [
    "# Combine Nepal and Korea data into a single CSV file\n",
    "combined_data_path = Path(\"../data\")\n",
    "nepal_df = pd.read_csv(file_list[0])\n",
    "korea_df = pd.read_csv(file_list[1])\n",
    "# rename column datetime to date and datetime.1 to time\n",
    "nepal_df.rename(columns={\"datetime\": \"date\", \"datetime.1\": \"time\"}, inplace=True)\n",
    "combined_data_df = pd.concat([nepal_df, korea_df], ignore_index=True)\n",
    "combined_data_df.to_csv(combined_data_path / \"combined_data.csv\", index=False)\n",
    "combined_data_df.head()"
   ]
  },
  {
   "cell_type": "markdown",
   "id": "b9629157",
   "metadata": {},
   "source": [
    "# Model Training"
   ]
  },
  {
   "cell_type": "markdown",
   "id": "72a67704",
   "metadata": {},
   "source": [
    "### Feature Selection"
   ]
  },
  {
   "cell_type": "code",
   "execution_count": null,
   "id": "e102bf47",
   "metadata": {},
   "outputs": [],
   "source": [
    "from sklearn.ensemble import RandomForestClassifier\n",
    "from sklearn.model_selection import train_test_split\n",
    "from sklearn.preprocessing import StandardScaler\n",
    "import joblib\n",
    "\n",
    "# these are the columns we don't need\n",
    "unnecessary_columns = [\"version\", \"instrument\", \"type\", \"satellite\", \"date\", \"time\"]\n",
    "# filter out unnecessary columns\n",
    "selected_columns = [\n",
    "    col for col in combined_data_df.columns if col not in unnecessary_columns\n",
    "]\n",
    "combined_data_df = combined_data_df[selected_columns]\n",
    "\n",
    "X = combined_data_df.drop(columns=[\"confidence\"])\n",
    "X[\"daynight\"] = X[\"daynight\"].map({\"D\": 1, \"N\": 0})\n",
    "\n",
    "y = combined_data_df[\"confidence\"].values.ravel()\n",
    "\n",
    "# Split the combined data ensuring stratification if applicable\n",
    "X_train, X_test, y_train, y_test = train_test_split(\n",
    "    X, y, test_size=0.2, random_state=42\n",
    ")\n",
    "\n",
    "# Scale the features\n",
    "scaler = StandardScaler()\n",
    "X_train_scaled = scaler.fit_transform(X_train)\n",
    "X_test_scaled = scaler.transform(X_test)"
   ]
  },
  {
   "cell_type": "markdown",
   "id": "f7f79e58",
   "metadata": {},
   "source": [
    "### Train the Model"
   ]
  },
  {
   "cell_type": "code",
   "execution_count": 9,
   "id": "0fd73b55",
   "metadata": {},
   "outputs": [
    {
     "data": {
      "text/plain": [
       "['wildfire_predictor_model.pkl']"
      ]
     },
     "execution_count": 9,
     "metadata": {},
     "output_type": "execute_result"
    }
   ],
   "source": [
    "from sklearn.ensemble import RandomForestRegressor\n",
    "\n",
    "# regressor model\n",
    "model = RandomForestRegressor(max_features='log2', min_samples_leaf=2, n_estimators=200, random_state=42)\n",
    "model.fit(X_train_scaled, y_train)\n",
    "# Save the model\n",
    "joblib.dump(model, \"wildfire_predictor_model.pkl\")"
   ]
  },
  {
   "cell_type": "markdown",
   "id": "c4d2828a",
   "metadata": {},
   "source": [
    "### Model testing"
   ]
  },
  {
   "cell_type": "code",
   "execution_count": 10,
   "id": "a51a05cd",
   "metadata": {},
   "outputs": [
    {
     "name": "stdout",
     "output_type": "stream",
     "text": [
      "Mean Absolute Error: 8.897474547974468\n",
      "Mean Squared Error: 149.4493040714875\n",
      "R^2 Score: 0.6300527366727633\n"
     ]
    },
    {
     "data": {
      "text/plain": [
       "['wildfire_predictor_scaler.pkl']"
      ]
     },
     "execution_count": 10,
     "metadata": {},
     "output_type": "execute_result"
    }
   ],
   "source": [
    "from sklearn.metrics import mean_squared_error, r2_score, mean_absolute_error\n",
    "\n",
    "def evaluate_model(model, X_test, y_test):\n",
    "    y_pred = model.predict(X_test)\n",
    "    mae = mean_absolute_error(y_test, y_pred)\n",
    "    mse = mean_squared_error(y_test, y_pred)\n",
    "    r2 = r2_score(y_test, y_pred)\n",
    "    print(f\"Mean Absolute Error: {mae}\")\n",
    "    print(f\"Mean Squared Error: {mse}\")\n",
    "    print(f\"R^2 Score: {r2}\")\n",
    "\n",
    "# Evaluate the model\n",
    "evaluate_model(model, X_test_scaled, y_test)\n",
    "\n",
    "# Save the scaler\n",
    "joblib.dump(scaler, \"wildfire_predictor_scaler.pkl\")"
   ]
  },
  {
   "cell_type": "markdown",
   "id": "68fd6d66",
   "metadata": {},
   "source": [
    "# Get new data"
   ]
  },
  {
   "cell_type": "code",
   "execution_count": 11,
   "id": "fb77401a",
   "metadata": {},
   "outputs": [
    {
     "data": {
      "text/plain": [
       "transaction_limit             5000\n",
       "current_transactions             0\n",
       "transaction_interval    10 minutes\n",
       "dtype: object"
      ]
     },
     "metadata": {},
     "output_type": "display_data"
    }
   ],
   "source": [
    "import pandas as pd\n",
    "\n",
    "url = \"https://firms.modaps.eosdis.nasa.gov/mapserver/mapkey_status/?MAP_KEY=\" + MAP_KEY\n",
    "\n",
    "try:\n",
    "    df = pd.read_json(url, typ=\"series\")\n",
    "    display(df)\n",
    "except ValueError:\n",
    "    print(\n",
    "        \"Failed to fetch data from the URL. Please check the URL or your internet connection.\"\n",
    "    )\n",
    "npl_url = (\n",
    "    \"https://firms.modaps.eosdis.nasa.gov/api/country/csv/\"\n",
    "    + MAP_KEY\n",
    "    + \"/MODIS_NRT/NPL/10\"\n",
    ")\n",
    "npl_data = pd.read_csv(npl_url)\n",
    "npl_data = npl_data.head()\n",
    "npl_original = npl_data.copy()"
   ]
  },
  {
   "cell_type": "code",
   "execution_count": 12,
   "id": "5f9a99b8",
   "metadata": {},
   "outputs": [
    {
     "name": "stdout",
     "output_type": "stream",
     "text": [
      "Prediction for row 1: 56.7\n",
      "Prediction for row 2: 66.0\n",
      "Prediction for row 3: 65.1\n",
      "Prediction for row 4: 74.2\n",
      "Prediction for row 5: 67.2\n"
     ]
    }
   ],
   "source": [
    "npl_data = npl_data.drop(columns=[\"version\", \"country_id\", \"instrument\", \"acq_date\", \"acq_time\", \"satellite\"])\n",
    "npl_data[\"daynight\"] = npl_data[\"daynight\"].map({\"D\": 1, \"N\": 0})\n",
    "npl_data = npl_data.drop(columns=[\"confidence\"])\n",
    "npl_data_scaled = scaler.transform(npl_data)\n",
    "npl_data_predictions = model.predict(npl_data_scaled)\n",
    "\n",
    "for i, pred in enumerate(npl_data_predictions):\n",
    "    print(f\"Prediction for row {i+1}: {pred:.1f}\")"
   ]
  },
  {
   "cell_type": "code",
   "execution_count": 13,
   "id": "20885a72",
   "metadata": {},
   "outputs": [
    {
     "data": {
      "text/plain": [
       "0    44\n",
       "1    76\n",
       "2    43\n",
       "3    81\n",
       "4    77\n",
       "Name: confidence, dtype: int64"
      ]
     },
     "execution_count": 13,
     "metadata": {},
     "output_type": "execute_result"
    }
   ],
   "source": [
    "npl_original['confidence'].head()"
   ]
  },
  {
   "cell_type": "code",
   "execution_count": 14,
   "id": "f1ee6362",
   "metadata": {},
   "outputs": [
    {
     "data": {
      "text/html": [
       "<div>\n",
       "<style scoped>\n",
       "    .dataframe tbody tr th:only-of-type {\n",
       "        vertical-align: middle;\n",
       "    }\n",
       "\n",
       "    .dataframe tbody tr th {\n",
       "        vertical-align: top;\n",
       "    }\n",
       "\n",
       "    .dataframe thead th {\n",
       "        text-align: right;\n",
       "    }\n",
       "</style>\n",
       "<table border=\"1\" class=\"dataframe\">\n",
       "  <thead>\n",
       "    <tr style=\"text-align: right;\">\n",
       "      <th></th>\n",
       "      <th>country_id</th>\n",
       "      <th>latitude</th>\n",
       "      <th>longitude</th>\n",
       "      <th>brightness</th>\n",
       "      <th>scan</th>\n",
       "      <th>track</th>\n",
       "      <th>acq_date</th>\n",
       "      <th>acq_time</th>\n",
       "      <th>satellite</th>\n",
       "      <th>instrument</th>\n",
       "      <th>confidence</th>\n",
       "      <th>version</th>\n",
       "      <th>bright_t31</th>\n",
       "      <th>frp</th>\n",
       "      <th>daynight</th>\n",
       "    </tr>\n",
       "  </thead>\n",
       "  <tbody>\n",
       "    <tr>\n",
       "      <th>0</th>\n",
       "      <td>NPL</td>\n",
       "      <td>27.27485</td>\n",
       "      <td>84.68124</td>\n",
       "      <td>317.64</td>\n",
       "      <td>2.71</td>\n",
       "      <td>1.58</td>\n",
       "      <td>2025-05-11</td>\n",
       "      <td>434</td>\n",
       "      <td>Terra</td>\n",
       "      <td>MODIS</td>\n",
       "      <td>44</td>\n",
       "      <td>6.1NRT</td>\n",
       "      <td>297.55</td>\n",
       "      <td>30.62</td>\n",
       "      <td>D</td>\n",
       "    </tr>\n",
       "    <tr>\n",
       "      <th>1</th>\n",
       "      <td>NPL</td>\n",
       "      <td>28.39590</td>\n",
       "      <td>81.43780</td>\n",
       "      <td>310.72</td>\n",
       "      <td>1.12</td>\n",
       "      <td>1.05</td>\n",
       "      <td>2025-05-11</td>\n",
       "      <td>1531</td>\n",
       "      <td>Terra</td>\n",
       "      <td>MODIS</td>\n",
       "      <td>76</td>\n",
       "      <td>6.1NRT</td>\n",
       "      <td>297.61</td>\n",
       "      <td>7.37</td>\n",
       "      <td>N</td>\n",
       "    </tr>\n",
       "    <tr>\n",
       "      <th>2</th>\n",
       "      <td>NPL</td>\n",
       "      <td>28.76836</td>\n",
       "      <td>81.34875</td>\n",
       "      <td>324.38</td>\n",
       "      <td>1.90</td>\n",
       "      <td>1.35</td>\n",
       "      <td>2025-05-12</td>\n",
       "      <td>920</td>\n",
       "      <td>Aqua</td>\n",
       "      <td>MODIS</td>\n",
       "      <td>43</td>\n",
       "      <td>6.1NRT</td>\n",
       "      <td>305.38</td>\n",
       "      <td>19.99</td>\n",
       "      <td>D</td>\n",
       "    </tr>\n",
       "    <tr>\n",
       "      <th>3</th>\n",
       "      <td>NPL</td>\n",
       "      <td>28.43337</td>\n",
       "      <td>81.10894</td>\n",
       "      <td>331.01</td>\n",
       "      <td>1.00</td>\n",
       "      <td>1.00</td>\n",
       "      <td>2025-05-13</td>\n",
       "      <td>417</td>\n",
       "      <td>Terra</td>\n",
       "      <td>MODIS</td>\n",
       "      <td>81</td>\n",
       "      <td>6.1NRT</td>\n",
       "      <td>307.60</td>\n",
       "      <td>16.20</td>\n",
       "      <td>D</td>\n",
       "    </tr>\n",
       "    <tr>\n",
       "      <th>4</th>\n",
       "      <td>NPL</td>\n",
       "      <td>28.20702</td>\n",
       "      <td>81.38847</td>\n",
       "      <td>332.81</td>\n",
       "      <td>1.02</td>\n",
       "      <td>1.01</td>\n",
       "      <td>2025-05-14</td>\n",
       "      <td>858</td>\n",
       "      <td>Aqua</td>\n",
       "      <td>MODIS</td>\n",
       "      <td>77</td>\n",
       "      <td>6.1NRT</td>\n",
       "      <td>317.55</td>\n",
       "      <td>12.78</td>\n",
       "      <td>D</td>\n",
       "    </tr>\n",
       "  </tbody>\n",
       "</table>\n",
       "</div>"
      ],
      "text/plain": [
       "  country_id  latitude  longitude  brightness  scan  track    acq_date  \\\n",
       "0        NPL  27.27485   84.68124      317.64  2.71   1.58  2025-05-11   \n",
       "1        NPL  28.39590   81.43780      310.72  1.12   1.05  2025-05-11   \n",
       "2        NPL  28.76836   81.34875      324.38  1.90   1.35  2025-05-12   \n",
       "3        NPL  28.43337   81.10894      331.01  1.00   1.00  2025-05-13   \n",
       "4        NPL  28.20702   81.38847      332.81  1.02   1.01  2025-05-14   \n",
       "\n",
       "   acq_time satellite instrument  confidence version  bright_t31    frp  \\\n",
       "0       434     Terra      MODIS          44  6.1NRT      297.55  30.62   \n",
       "1      1531     Terra      MODIS          76  6.1NRT      297.61   7.37   \n",
       "2       920      Aqua      MODIS          43  6.1NRT      305.38  19.99   \n",
       "3       417     Terra      MODIS          81  6.1NRT      307.60  16.20   \n",
       "4       858      Aqua      MODIS          77  6.1NRT      317.55  12.78   \n",
       "\n",
       "  daynight  \n",
       "0        D  \n",
       "1        N  \n",
       "2        D  \n",
       "3        D  \n",
       "4        D  "
      ]
     },
     "execution_count": 14,
     "metadata": {},
     "output_type": "execute_result"
    }
   ],
   "source": [
    "npl_original.head()"
   ]
  },
  {
   "cell_type": "code",
   "execution_count": null,
   "id": "7cf4c87b",
   "metadata": {},
   "outputs": [],
   "source": []
  }
 ],
 "metadata": {
  "kernelspec": {
   "display_name": ".venv",
   "language": "python",
   "name": "python3"
  },
  "language_info": {
   "codemirror_mode": {
    "name": "ipython",
    "version": 3
   },
   "file_extension": ".py",
   "mimetype": "text/x-python",
   "name": "python",
   "nbconvert_exporter": "python",
   "pygments_lexer": "ipython3",
   "version": "3.12.0"
  }
 },
 "nbformat": 4,
 "nbformat_minor": 5
}
