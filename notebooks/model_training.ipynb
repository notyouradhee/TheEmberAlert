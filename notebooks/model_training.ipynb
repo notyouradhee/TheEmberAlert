{
 "cells": [
  {
   "cell_type": "markdown",
   "id": "fb5a041f",
   "metadata": {},
   "source": [
    "# Pre-processing"
   ]
  },
  {
   "cell_type": "code",
   "execution_count": null,
   "id": "0157787e",
   "metadata": {},
   "outputs": [],
   "source": [
    "# install the dotenv package to read the .env file\n",
    "# !pip install python-dotenv scikit-learn joblib "
   ]
  },
  {
   "cell_type": "code",
   "execution_count": null,
   "id": "c81195e9",
   "metadata": {},
   "outputs": [],
   "source": [
    "from dotenv import load_dotenv\n",
    "import os\n",
    "\n",
    "# Load the .env file\n",
    "load_dotenv()\n",
    "\n",
    "# Access the MAP_KEY\n",
    "MAP_KEY = os.getenv(\"MAP_KEY\")\n",
    "\n",
    "print(\"MAP_KEY:\", MAP_KEY)  # Optional, remove in production\n"
   ]
  },
  {
   "cell_type": "code",
   "execution_count": null,
   "id": "7acc73f5",
   "metadata": {},
   "outputs": [],
   "source": [
    "import pandas as pd\n",
    "from pathlib import Path\n",
    "\n",
    "root_dir = Path(\"../data/processed\")\n",
    "file_list = []\n",
    "for file in os.listdir(root_dir):\n",
    "    if \"combined.csv\" in file.split(\"_\"):\n",
    "        file_path = root_dir / file\n",
    "        file_list.append(file_path)\n",
    "print(file_list)"
   ]
  },
  {
   "cell_type": "code",
   "execution_count": null,
   "id": "989511e7",
   "metadata": {},
   "outputs": [],
   "source": [
    "# Combine Nepal and Korea data into a single CSV file\n",
    "combined_data_path = Path(\"../data\")\n",
    "nepal_df = pd.read_csv(file_list[0])\n",
    "korea_df = pd.read_csv(file_list[1])\n",
    "# rename column datetime to date and datetime.1 to time\n",
    "nepal_df.rename(columns={\"datetime\": \"date\", \"datetime.1\": \"time\"}, inplace=True)\n",
    "combined_data_df = pd.concat([nepal_df, korea_df], ignore_index=True)\n",
    "combined_data_df.to_csv(combined_data_path / \"combined_data.csv\", index=False)\n",
    "combined_data_df.head()"
   ]
  },
  {
   "cell_type": "markdown",
   "id": "b9629157",
   "metadata": {},
   "source": [
    "# Model Training"
   ]
  },
  {
   "cell_type": "markdown",
   "id": "72a67704",
   "metadata": {},
   "source": [
    "### Feature Selection"
   ]
  },
  {
   "cell_type": "code",
   "execution_count": null,
   "id": "e102bf47",
   "metadata": {},
   "outputs": [],
   "source": [
    "from sklearn.ensemble import RandomForestClassifier\n",
    "from sklearn.model_selection import train_test_split\n",
    "from sklearn.preprocessing import StandardScaler\n",
    "import joblib\n",
    "\n",
    "# these are the columns we don't need\n",
    "unnecessary_columns = [\"version\", \"instrument\", \"type\", \"satellite\", \"date\", \"time\"]\n",
    "# filter out unnecessary columns\n",
    "selected_columns = [\n",
    "    col for col in combined_data_df.columns if col not in unnecessary_columns\n",
    "]\n",
    "combined_data_df = combined_data_df[selected_columns]\n",
    "\n",
    "X = combined_data_df.drop(columns=[\"confidence\"])\n",
    "X[\"daynight\"] = X[\"daynight\"].map({\"D\": 1, \"N\": 0})\n",
    "\n",
    "y = combined_data_df[\"confidence\"].values.ravel()\n",
    "\n",
    "# Split the combined data ensuring stratification if applicable\n",
    "X_train, X_test, y_train, y_test = train_test_split(\n",
    "    X, y, test_size=0.2, random_state=42\n",
    ")\n",
    "\n",
    "# Scale the features\n",
    "scaler = StandardScaler()\n",
    "X_train_scaled = scaler.fit_transform(X_train)\n",
    "X_test_scaled = scaler.transform(X_test)"
   ]
  },
  {
   "cell_type": "markdown",
   "id": "f7f79e58",
   "metadata": {},
   "source": [
    "### Train the Model"
   ]
  },
  {
   "cell_type": "code",
   "execution_count": 6,
   "id": "0fd73b55",
   "metadata": {},
   "outputs": [
    {
     "data": {
      "text/plain": [
       "['../models/wildfire_predictor_model.pkl']"
      ]
     },
     "execution_count": 6,
     "metadata": {},
     "output_type": "execute_result"
    }
   ],
   "source": [
    "from sklearn.ensemble import RandomForestRegressor\n",
    "\n",
    "model_dir = Path(\"../models\")\n",
    "# regressor model\n",
    "model = RandomForestRegressor(\n",
    "    max_features=\"log2\", min_samples_leaf=2, n_estimators=200, random_state=42\n",
    ")\n",
    "model.fit(X_train_scaled, y_train)\n",
    "# Save the model\n",
    "joblib.dump(model, model_dir / \"wildfire_predictor_model.pkl\")"
   ]
  },
  {
   "cell_type": "markdown",
   "id": "c4d2828a",
   "metadata": {},
   "source": [
    "### Model testing"
   ]
  },
  {
   "cell_type": "code",
   "execution_count": 7,
   "id": "a51a05cd",
   "metadata": {},
   "outputs": [
    {
     "name": "stdout",
     "output_type": "stream",
     "text": [
      "Mean Absolute Error: 8.897474547974468\n",
      "Mean Squared Error: 149.4493040714875\n",
      "R^2 Score: 0.6300527366727633\n"
     ]
    },
    {
     "data": {
      "text/plain": [
       "['../models/wildfire_predictor_scaler.pkl']"
      ]
     },
     "execution_count": 7,
     "metadata": {},
     "output_type": "execute_result"
    }
   ],
   "source": [
    "from sklearn.metrics import mean_squared_error, r2_score, mean_absolute_error\n",
    "\n",
    "def evaluate_model(model, X_test, y_test):\n",
    "    y_pred = model.predict(X_test)\n",
    "    mae = mean_absolute_error(y_test, y_pred)\n",
    "    mse = mean_squared_error(y_test, y_pred)\n",
    "    r2 = r2_score(y_test, y_pred)\n",
    "    print(f\"Mean Absolute Error: {mae}\")\n",
    "    print(f\"Mean Squared Error: {mse}\")\n",
    "    print(f\"R^2 Score: {r2}\")\n",
    "\n",
    "# Evaluate the model\n",
    "evaluate_model(model, X_test_scaled, y_test)\n",
    "\n",
    "# Save the scaler\n",
    "joblib.dump(scaler, model_dir/\"wildfire_predictor_scaler.pkl\")"
   ]
  },
  {
   "cell_type": "markdown",
   "id": "68fd6d66",
   "metadata": {},
   "source": [
    "# Get new data"
   ]
  },
  {
   "cell_type": "code",
   "execution_count": 8,
   "id": "fb77401a",
   "metadata": {},
   "outputs": [
    {
     "data": {
      "text/html": [
       "<div>\n",
       "<style scoped>\n",
       "    .dataframe tbody tr th:only-of-type {\n",
       "        vertical-align: middle;\n",
       "    }\n",
       "\n",
       "    .dataframe tbody tr th {\n",
       "        vertical-align: top;\n",
       "    }\n",
       "\n",
       "    .dataframe thead th {\n",
       "        text-align: right;\n",
       "    }\n",
       "</style>\n",
       "<table border=\"1\" class=\"dataframe\">\n",
       "  <thead>\n",
       "    <tr style=\"text-align: right;\">\n",
       "      <th></th>\n",
       "      <th>country_id</th>\n",
       "      <th>latitude</th>\n",
       "      <th>longitude</th>\n",
       "      <th>brightness</th>\n",
       "      <th>scan</th>\n",
       "      <th>track</th>\n",
       "      <th>acq_date</th>\n",
       "      <th>acq_time</th>\n",
       "      <th>satellite</th>\n",
       "      <th>instrument</th>\n",
       "      <th>confidence</th>\n",
       "      <th>version</th>\n",
       "      <th>bright_t31</th>\n",
       "      <th>frp</th>\n",
       "      <th>daynight</th>\n",
       "    </tr>\n",
       "  </thead>\n",
       "  <tbody>\n",
       "    <tr>\n",
       "      <th>0</th>\n",
       "      <td>NPL</td>\n",
       "      <td>28.43337</td>\n",
       "      <td>81.10894</td>\n",
       "      <td>331.01</td>\n",
       "      <td>1.00</td>\n",
       "      <td>1.00</td>\n",
       "      <td>2025-05-13</td>\n",
       "      <td>417</td>\n",
       "      <td>Terra</td>\n",
       "      <td>MODIS</td>\n",
       "      <td>81</td>\n",
       "      <td>6.1NRT</td>\n",
       "      <td>307.60</td>\n",
       "      <td>16.20</td>\n",
       "      <td>D</td>\n",
       "    </tr>\n",
       "    <tr>\n",
       "      <th>1</th>\n",
       "      <td>NPL</td>\n",
       "      <td>28.20702</td>\n",
       "      <td>81.38847</td>\n",
       "      <td>332.81</td>\n",
       "      <td>1.02</td>\n",
       "      <td>1.01</td>\n",
       "      <td>2025-05-14</td>\n",
       "      <td>858</td>\n",
       "      <td>Aqua</td>\n",
       "      <td>MODIS</td>\n",
       "      <td>77</td>\n",
       "      <td>6.1NRT</td>\n",
       "      <td>317.55</td>\n",
       "      <td>12.78</td>\n",
       "      <td>D</td>\n",
       "    </tr>\n",
       "    <tr>\n",
       "      <th>2</th>\n",
       "      <td>NPL</td>\n",
       "      <td>28.55418</td>\n",
       "      <td>80.84904</td>\n",
       "      <td>327.92</td>\n",
       "      <td>1.00</td>\n",
       "      <td>1.00</td>\n",
       "      <td>2025-05-14</td>\n",
       "      <td>858</td>\n",
       "      <td>Aqua</td>\n",
       "      <td>MODIS</td>\n",
       "      <td>70</td>\n",
       "      <td>6.1NRT</td>\n",
       "      <td>311.51</td>\n",
       "      <td>10.81</td>\n",
       "      <td>D</td>\n",
       "    </tr>\n",
       "    <tr>\n",
       "      <th>3</th>\n",
       "      <td>NPL</td>\n",
       "      <td>28.55987</td>\n",
       "      <td>80.88885</td>\n",
       "      <td>326.40</td>\n",
       "      <td>1.01</td>\n",
       "      <td>1.00</td>\n",
       "      <td>2025-05-14</td>\n",
       "      <td>858</td>\n",
       "      <td>Aqua</td>\n",
       "      <td>MODIS</td>\n",
       "      <td>61</td>\n",
       "      <td>6.1NRT</td>\n",
       "      <td>310.56</td>\n",
       "      <td>9.70</td>\n",
       "      <td>D</td>\n",
       "    </tr>\n",
       "    <tr>\n",
       "      <th>4</th>\n",
       "      <td>NPL</td>\n",
       "      <td>28.75919</td>\n",
       "      <td>80.41531</td>\n",
       "      <td>326.49</td>\n",
       "      <td>1.00</td>\n",
       "      <td>1.00</td>\n",
       "      <td>2025-05-14</td>\n",
       "      <td>858</td>\n",
       "      <td>Aqua</td>\n",
       "      <td>MODIS</td>\n",
       "      <td>56</td>\n",
       "      <td>6.1NRT</td>\n",
       "      <td>313.54</td>\n",
       "      <td>7.13</td>\n",
       "      <td>D</td>\n",
       "    </tr>\n",
       "  </tbody>\n",
       "</table>\n",
       "</div>"
      ],
      "text/plain": [
       "  country_id  latitude  longitude  brightness  scan  track    acq_date  \\\n",
       "0        NPL  28.43337   81.10894      331.01  1.00   1.00  2025-05-13   \n",
       "1        NPL  28.20702   81.38847      332.81  1.02   1.01  2025-05-14   \n",
       "2        NPL  28.55418   80.84904      327.92  1.00   1.00  2025-05-14   \n",
       "3        NPL  28.55987   80.88885      326.40  1.01   1.00  2025-05-14   \n",
       "4        NPL  28.75919   80.41531      326.49  1.00   1.00  2025-05-14   \n",
       "\n",
       "   acq_time satellite instrument  confidence version  bright_t31    frp  \\\n",
       "0       417     Terra      MODIS          81  6.1NRT      307.60  16.20   \n",
       "1       858      Aqua      MODIS          77  6.1NRT      317.55  12.78   \n",
       "2       858      Aqua      MODIS          70  6.1NRT      311.51  10.81   \n",
       "3       858      Aqua      MODIS          61  6.1NRT      310.56   9.70   \n",
       "4       858      Aqua      MODIS          56  6.1NRT      313.54   7.13   \n",
       "\n",
       "  daynight  \n",
       "0        D  \n",
       "1        D  \n",
       "2        D  \n",
       "3        D  \n",
       "4        D  "
      ]
     },
     "metadata": {},
     "output_type": "display_data"
    }
   ],
   "source": [
    "import pandas as pd\n",
    "\n",
    "try:\n",
    "    npl_url = f\"https://firms.modaps.eosdis.nasa.gov/api/country/csv/{MAP_KEY}/MODIS_NRT/NPL/10\"\n",
    "    npl_data = pd.read_csv(npl_url)\n",
    "    display(npl_data.head())\n",
    "    npl_original = npl_data.copy()\n",
    "except Exception as e:\n",
    "    print(\"🔥 Failed to load Nepal wildfire data:\", e)    "
   ]
  },
  {
   "cell_type": "code",
   "execution_count": 9,
   "id": "5f9a99b8",
   "metadata": {},
   "outputs": [
    {
     "name": "stdout",
     "output_type": "stream",
     "text": [
      "Prediction for row 1: 74.2\n",
      "Prediction for row 2: 67.2\n",
      "Prediction for row 3: 60.4\n",
      "Prediction for row 4: 57.3\n",
      "Prediction for row 5: 49.8\n",
      "Prediction for row 6: 55.7\n",
      "Prediction for row 7: 73.2\n",
      "Prediction for row 8: 61.4\n",
      "Prediction for row 9: 63.6\n",
      "Prediction for row 10: 48.1\n",
      "Prediction for row 11: 51.0\n",
      "Prediction for row 12: 86.9\n",
      "Prediction for row 13: 96.8\n",
      "Prediction for row 14: 55.3\n",
      "Prediction for row 15: 63.4\n",
      "Prediction for row 16: 51.3\n",
      "Prediction for row 17: 69.5\n",
      "Prediction for row 18: 78.2\n",
      "Prediction for row 19: 69.1\n",
      "Prediction for row 20: 47.5\n",
      "Prediction for row 21: 67.2\n",
      "Prediction for row 22: 39.6\n",
      "Prediction for row 23: 37.8\n",
      "Prediction for row 24: 98.4\n",
      "Prediction for row 25: 77.1\n",
      "Prediction for row 26: 40.3\n",
      "Prediction for row 27: 52.7\n",
      "Prediction for row 28: 52.5\n",
      "Prediction for row 29: 67.6\n",
      "Prediction for row 30: 97.3\n",
      "Prediction for row 31: 67.0\n",
      "Prediction for row 32: 44.9\n",
      "Prediction for row 33: 62.1\n",
      "Prediction for row 34: 27.6\n",
      "Prediction for row 35: 44.4\n",
      "Prediction for row 36: 47.6\n",
      "Prediction for row 37: 54.2\n",
      "Prediction for row 38: 48.4\n"
     ]
    }
   ],
   "source": [
    "npl_data = npl_data.drop(columns=[\"version\", \"country_id\", \"instrument\", \"acq_date\", \"acq_time\", \"satellite\"])\n",
    "npl_data[\"daynight\"] = npl_data[\"daynight\"].map({\"D\": 1, \"N\": 0})\n",
    "npl_data = npl_data.drop(columns=[\"confidence\"])\n",
    "npl_data_scaled = scaler.transform(npl_data)\n",
    "npl_data_predictions = model.predict(npl_data_scaled)\n",
    "\n",
    "for i, pred in enumerate(npl_data_predictions):\n",
    "    print(f\"Prediction for row {i+1}: {pred:.1f}\")"
   ]
  },
  {
   "cell_type": "code",
   "execution_count": null,
   "id": "7cf4c87b",
   "metadata": {},
   "outputs": [],
   "source": []
  }
 ],
 "metadata": {
  "kernelspec": {
   "display_name": ".venv",
   "language": "python",
   "name": "python3"
  },
  "language_info": {
   "codemirror_mode": {
    "name": "ipython",
    "version": 3
   },
   "file_extension": ".py",
   "mimetype": "text/x-python",
   "name": "python",
   "nbconvert_exporter": "python",
   "pygments_lexer": "ipython3",
   "version": "3.12.0"
  }
 },
 "nbformat": 4,
 "nbformat_minor": 5
}
