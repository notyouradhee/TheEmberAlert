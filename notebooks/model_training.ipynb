{
 "cells": [
  {
   "cell_type": "markdown",
   "id": "fb5a041f",
   "metadata": {},
   "source": [
    "# Pre-processing"
   ]
  },
  {
   "cell_type": "code",
   "execution_count": null,
   "id": "0157787e",
   "metadata": {},
   "outputs": [],
   "source": [
    "# install the dotenv package to read the .env file\n",
    "# !pip install python-dotenv scikit-learn joblib "
   ]
  },
  {
   "cell_type": "code",
   "execution_count": 1,
   "id": "c81195e9",
   "metadata": {},
   "outputs": [
    {
     "name": "stdout",
     "output_type": "stream",
     "text": [
      "MAP_KEY: None\n"
     ]
    }
   ],
   "source": [
    "from dotenv import load_dotenv\n",
    "import os\n",
    "\n",
    "# Load the .env file\n",
    "load_dotenv()\n",
    "\n",
    "# Access the MAP_KEY\n",
    "MAP_KEY = os.getenv(\"MAP_KEY\")\n",
    "\n",
    "print(\"MAP_KEY:\", MAP_KEY)  # Optional, remove in production\n"
   ]
  },
  {
   "cell_type": "code",
   "execution_count": 2,
   "id": "7acc73f5",
   "metadata": {},
   "outputs": [
    {
     "name": "stdout",
     "output_type": "stream",
     "text": [
      "[WindowsPath('../data/processed/korea_combined.csv'), WindowsPath('../data/processed/nepal_combined.csv')]\n"
     ]
    }
   ],
   "source": [
    "import pandas as pd\n",
    "from pathlib import Path\n",
    "\n",
    "root_dir = Path(\"../data/processed\")\n",
    "file_list = []\n",
    "for file in os.listdir(root_dir):\n",
    "    if \"combined.csv\" in file.split(\"_\"):\n",
    "        file_path = root_dir / file\n",
    "        file_list.append(file_path)\n",
    "print(file_list)"
   ]
  },
  {
   "cell_type": "code",
   "execution_count": 5,
   "id": "989511e7",
   "metadata": {},
   "outputs": [
    {
     "data": {
      "text/html": [
       "<div>\n",
       "<style scoped>\n",
       "    .dataframe tbody tr th:only-of-type {\n",
       "        vertical-align: middle;\n",
       "    }\n",
       "\n",
       "    .dataframe tbody tr th {\n",
       "        vertical-align: top;\n",
       "    }\n",
       "\n",
       "    .dataframe thead th {\n",
       "        text-align: right;\n",
       "    }\n",
       "</style>\n",
       "<table border=\"1\" class=\"dataframe\">\n",
       "  <thead>\n",
       "    <tr style=\"text-align: right;\">\n",
       "      <th></th>\n",
       "      <th>latitude</th>\n",
       "      <th>longitude</th>\n",
       "      <th>brightness</th>\n",
       "      <th>scan</th>\n",
       "      <th>track</th>\n",
       "      <th>satellite</th>\n",
       "      <th>instrument</th>\n",
       "      <th>confidence</th>\n",
       "      <th>version</th>\n",
       "      <th>bright_t31</th>\n",
       "      <th>frp</th>\n",
       "      <th>daynight</th>\n",
       "      <th>type</th>\n",
       "      <th>date</th>\n",
       "      <th>time</th>\n",
       "    </tr>\n",
       "  </thead>\n",
       "  <tbody>\n",
       "    <tr>\n",
       "      <th>0</th>\n",
       "      <td>36.9854</td>\n",
       "      <td>126.7148</td>\n",
       "      <td>301.3</td>\n",
       "      <td>1.0</td>\n",
       "      <td>1.0</td>\n",
       "      <td>Terra</td>\n",
       "      <td>MODIS</td>\n",
       "      <td>40</td>\n",
       "      <td>6.03</td>\n",
       "      <td>278.4</td>\n",
       "      <td>7.6</td>\n",
       "      <td>D</td>\n",
       "      <td>2</td>\n",
       "      <td>24-Jan-2020</td>\n",
       "      <td>2:22:00 AM</td>\n",
       "    </tr>\n",
       "    <tr>\n",
       "      <th>1</th>\n",
       "      <td>35.9964</td>\n",
       "      <td>129.3935</td>\n",
       "      <td>304.8</td>\n",
       "      <td>1.3</td>\n",
       "      <td>1.1</td>\n",
       "      <td>Aqua</td>\n",
       "      <td>MODIS</td>\n",
       "      <td>60</td>\n",
       "      <td>6.03</td>\n",
       "      <td>287.2</td>\n",
       "      <td>10.3</td>\n",
       "      <td>D</td>\n",
       "      <td>2</td>\n",
       "      <td>1-Feb-2020</td>\n",
       "      <td>4:49:00 AM</td>\n",
       "    </tr>\n",
       "    <tr>\n",
       "      <th>2</th>\n",
       "      <td>37.0491</td>\n",
       "      <td>126.5183</td>\n",
       "      <td>300.4</td>\n",
       "      <td>1.1</td>\n",
       "      <td>1.0</td>\n",
       "      <td>Aqua</td>\n",
       "      <td>MODIS</td>\n",
       "      <td>0</td>\n",
       "      <td>6.03</td>\n",
       "      <td>279.7</td>\n",
       "      <td>7.1</td>\n",
       "      <td>D</td>\n",
       "      <td>2</td>\n",
       "      <td>3-Feb-2020</td>\n",
       "      <td>4:37:00 AM</td>\n",
       "    </tr>\n",
       "    <tr>\n",
       "      <th>3</th>\n",
       "      <td>36.0207</td>\n",
       "      <td>126.9367</td>\n",
       "      <td>312.4</td>\n",
       "      <td>1.1</td>\n",
       "      <td>1.0</td>\n",
       "      <td>Aqua</td>\n",
       "      <td>MODIS</td>\n",
       "      <td>46</td>\n",
       "      <td>6.03</td>\n",
       "      <td>283.5</td>\n",
       "      <td>12.9</td>\n",
       "      <td>D</td>\n",
       "      <td>0</td>\n",
       "      <td>3-Feb-2020</td>\n",
       "      <td>4:37:00 AM</td>\n",
       "    </tr>\n",
       "    <tr>\n",
       "      <th>4</th>\n",
       "      <td>36.1727</td>\n",
       "      <td>126.9524</td>\n",
       "      <td>302.1</td>\n",
       "      <td>1.0</td>\n",
       "      <td>1.0</td>\n",
       "      <td>Aqua</td>\n",
       "      <td>MODIS</td>\n",
       "      <td>28</td>\n",
       "      <td>6.03</td>\n",
       "      <td>279.2</td>\n",
       "      <td>6.6</td>\n",
       "      <td>D</td>\n",
       "      <td>0</td>\n",
       "      <td>3-Feb-2020</td>\n",
       "      <td>4:37:00 AM</td>\n",
       "    </tr>\n",
       "  </tbody>\n",
       "</table>\n",
       "</div>"
      ],
      "text/plain": [
       "   latitude  longitude  brightness  scan  track satellite instrument  \\\n",
       "0   36.9854   126.7148       301.3   1.0    1.0     Terra      MODIS   \n",
       "1   35.9964   129.3935       304.8   1.3    1.1      Aqua      MODIS   \n",
       "2   37.0491   126.5183       300.4   1.1    1.0      Aqua      MODIS   \n",
       "3   36.0207   126.9367       312.4   1.1    1.0      Aqua      MODIS   \n",
       "4   36.1727   126.9524       302.1   1.0    1.0      Aqua      MODIS   \n",
       "\n",
       "   confidence  version  bright_t31   frp daynight  type         date  \\\n",
       "0          40     6.03       278.4   7.6        D     2  24-Jan-2020   \n",
       "1          60     6.03       287.2  10.3        D     2   1-Feb-2020   \n",
       "2           0     6.03       279.7   7.1        D     2   3-Feb-2020   \n",
       "3          46     6.03       283.5  12.9        D     0   3-Feb-2020   \n",
       "4          28     6.03       279.2   6.6        D     0   3-Feb-2020   \n",
       "\n",
       "         time  \n",
       "0  2:22:00 AM  \n",
       "1  4:49:00 AM  \n",
       "2  4:37:00 AM  \n",
       "3  4:37:00 AM  \n",
       "4  4:37:00 AM  "
      ]
     },
     "execution_count": 5,
     "metadata": {},
     "output_type": "execute_result"
    }
   ],
   "source": [
    "# Combine Nepal and Korea data into a single CSV file\n",
    "combined_data_path = Path(\"../data\")\n",
    "nepal_df = pd.read_csv(file_list[0])\n",
    "korea_df = pd.read_csv(file_list[1])\n",
    "# rename column datetime to date and datetime.1 to time\n",
    "nepal_df.rename(columns={\"datetime\": \"date\", \"datetime.1\": \"time\"}, inplace=True)\n",
    "combined_data_df = pd.concat([nepal_df, korea_df], ignore_index=True)\n",
    "combined_data_df.to_csv(combined_data_path / \"combined_data.csv\", index=False)\n",
    "combined_data_df.head()"
   ]
  },
  {
   "cell_type": "markdown",
   "id": "b9629157",
   "metadata": {},
   "source": [
    "# Model Training"
   ]
  },
  {
   "cell_type": "markdown",
   "id": "72a67704",
   "metadata": {},
   "source": [
    "### Feature Selection"
   ]
  },
  {
   "cell_type": "code",
   "execution_count": 6,
   "id": "e102bf47",
   "metadata": {},
   "outputs": [],
   "source": [
    "from sklearn.model_selection import train_test_split\n",
    "from sklearn.preprocessing import StandardScaler\n",
    "import joblib\n",
    "\n",
    "# these are the columns we don't need\n",
    "unnecessary_columns = [\"version\", \"instrument\", \"type\", \"satellite\", \"date\", \"time\"]\n",
    "# filter out unnecessary columns\n",
    "selected_columns = [\n",
    "    col for col in combined_data_df.columns if col not in unnecessary_columns\n",
    "]\n",
    "combined_data_df = combined_data_df[selected_columns]\n",
    "\n",
    "X = combined_data_df.drop(columns=[\"confidence\"])\n",
    "X[\"daynight\"] = X[\"daynight\"].map({\"D\": 1, \"N\": 0})\n",
    "\n",
    "y = combined_data_df[\"confidence\"].values.ravel()\n",
    "\n",
    "# Split the combined data ensuring stratification if applicable\n",
    "X_train, X_test, y_train, y_test = train_test_split(\n",
    "    X, y, test_size=0.2, random_state=42\n",
    ")\n",
    "\n",
    "# Scale the features\n",
    "scaler = StandardScaler()\n",
    "X_train_scaled = scaler.fit_transform(X_train)\n",
    "X_test_scaled = scaler.transform(X_test)"
   ]
  },
  {
   "cell_type": "markdown",
   "id": "f7f79e58",
   "metadata": {},
   "source": [
    "### Train the Model"
   ]
  },
  {
   "cell_type": "code",
   "execution_count": null,
   "id": "0fd73b55",
   "metadata": {},
   "outputs": [
    {
     "data": {
      "text/plain": [
       "['..\\\\models\\\\wildfire_predictor_model.pkl']"
      ]
     },
     "execution_count": 8,
     "metadata": {},
     "output_type": "execute_result"
    }
   ],
   "source": [
    "# from sklearn.ensemble import RandomForestRegressor\n",
    "\n",
    "# model_dir = Path(\"../models\")\n",
    "# # regressor model\n",
    "# model = RandomForestRegressor(\n",
    "#     max_features=\"log2\", min_samples_leaf=2, n_estimators=200, random_state=42\n",
    "# )\n",
    "# model.fit(X_train_scaled, y_train)\n",
    "# # Save the model\n",
    "# joblib.dump(model, model_dir / \"wildfire_predictor_model.pkl\")\n",
    "\n",
    "from sklearn.ensemble import RandomForestRegressor\n",
    "from pathlib import Path\n",
    "import joblib\n",
    "\n",
    "model_dir = Path(\"../models\")\n",
    "model_dir.mkdir(parents=True, exist_ok=True)  # Make sure the folder exists\n",
    "\n",
    "# Train the model\n",
    "model = RandomForestRegressor(\n",
    "    max_features=\"log2\", min_samples_leaf=4, n_estimators=50, random_state=42\n",
    ")\n",
    "model.fit(X_train_scaled, y_train)\n",
    "\n",
    "# Save the model with compression\n",
    "joblib.dump(model, model_dir / \"wildfire_predictor_model.pkl\", compress=3)\n"
   ]
  },
  {
   "cell_type": "markdown",
   "id": "c4d2828a",
   "metadata": {},
   "source": [
    "### Model testing"
   ]
  },
  {
   "cell_type": "code",
   "execution_count": 6,
   "id": "a51a05cd",
   "metadata": {},
   "outputs": [
    {
     "name": "stdout",
     "output_type": "stream",
     "text": [
      "Mean Absolute Error: 8.51540961223337\n",
      "Mean Squared Error: 139.872240387292\n",
      "R^2 Score: 0.6541986812538385\n"
     ]
    },
    {
     "data": {
      "text/plain": [
       "['..\\\\models\\\\wildfire_predictor_scaler.pkl']"
      ]
     },
     "execution_count": 6,
     "metadata": {},
     "output_type": "execute_result"
    }
   ],
   "source": [
    "from sklearn.metrics import mean_squared_error, r2_score, mean_absolute_error\n",
    "\n",
    "def evaluate_model(model, X_test, y_test):\n",
    "    y_pred = model.predict(X_test)\n",
    "    mae = mean_absolute_error(y_test, y_pred)\n",
    "    mse = mean_squared_error(y_test, y_pred)\n",
    "    r2 = r2_score(y_test, y_pred)\n",
    "    print(f\"Mean Absolute Error: {mae}\")\n",
    "    print(f\"Mean Squared Error: {mse}\")\n",
    "    print(f\"R^2 Score: {r2}\")\n",
    "    return r2\n",
    "\n",
    "# Evaluate the model\n",
    "evaluate_model(model, X_test_scaled, y_test)\n",
    "\n",
    "# Save the scaler\n",
    "joblib.dump(scaler, model_dir/\"wildfire_predictor_scaler.pkl\")"
   ]
  },
  {
   "cell_type": "markdown",
   "id": "68fd6d66",
   "metadata": {},
   "source": [
    "# Get new data"
   ]
  },
  {
   "cell_type": "code",
   "execution_count": 7,
   "id": "fb77401a",
   "metadata": {},
   "outputs": [
    {
     "data": {
      "text/html": [
       "<div>\n",
       "<style scoped>\n",
       "    .dataframe tbody tr th:only-of-type {\n",
       "        vertical-align: middle;\n",
       "    }\n",
       "\n",
       "    .dataframe tbody tr th {\n",
       "        vertical-align: top;\n",
       "    }\n",
       "\n",
       "    .dataframe thead th {\n",
       "        text-align: right;\n",
       "    }\n",
       "</style>\n",
       "<table border=\"1\" class=\"dataframe\">\n",
       "  <thead>\n",
       "    <tr style=\"text-align: right;\">\n",
       "      <th></th>\n",
       "      <th>Invalid MAP_KEY.</th>\n",
       "    </tr>\n",
       "  </thead>\n",
       "  <tbody>\n",
       "  </tbody>\n",
       "</table>\n",
       "</div>"
      ],
      "text/plain": [
       "Empty DataFrame\n",
       "Columns: [Invalid MAP_KEY.]\n",
       "Index: []"
      ]
     },
     "metadata": {},
     "output_type": "display_data"
    }
   ],
   "source": [
    "import pandas as pd\n",
    "\n",
    "try:\n",
    "    npl_url = f\"https://firms.modaps.eosdis.nasa.gov/api/country/csv/{MAP_KEY}/MODIS_NRT/NPL/10\"\n",
    "    npl_data = pd.read_csv(npl_url)\n",
    "    display(npl_data.head())\n",
    "    npl_original = npl_data.copy()\n",
    "except Exception as e:\n",
    "    print(\"🔥 Failed to load Nepal wildfire data:\", e)    "
   ]
  },
  {
   "cell_type": "code",
   "execution_count": 13,
   "id": "5f9a99b8",
   "metadata": {},
   "outputs": [
    {
     "name": "stdout",
     "output_type": "stream",
     "text": [
      "Prediction for row 1: 74.2\n",
      "Prediction for row 2: 67.2\n",
      "Prediction for row 3: 60.4\n",
      "Prediction for row 4: 57.3\n",
      "Prediction for row 5: 49.8\n",
      "Prediction for row 6: 55.7\n",
      "Prediction for row 7: 73.2\n",
      "Prediction for row 8: 61.4\n",
      "Prediction for row 9: 63.6\n",
      "Prediction for row 10: 48.1\n",
      "Prediction for row 11: 51.0\n",
      "Prediction for row 12: 86.9\n",
      "Prediction for row 13: 96.8\n",
      "Prediction for row 14: 55.3\n",
      "Prediction for row 15: 63.4\n",
      "Prediction for row 16: 51.3\n",
      "Prediction for row 17: 69.5\n",
      "Prediction for row 18: 78.2\n",
      "Prediction for row 19: 69.1\n",
      "Prediction for row 20: 47.5\n",
      "Prediction for row 21: 67.2\n",
      "Prediction for row 22: 39.6\n",
      "Prediction for row 23: 37.8\n",
      "Prediction for row 24: 98.4\n",
      "Prediction for row 25: 77.1\n",
      "Prediction for row 26: 40.3\n",
      "Prediction for row 27: 52.7\n",
      "Prediction for row 28: 52.5\n",
      "Prediction for row 29: 67.6\n",
      "Prediction for row 30: 97.3\n",
      "Prediction for row 31: 67.0\n",
      "Prediction for row 32: 44.9\n",
      "Prediction for row 33: 62.1\n",
      "Prediction for row 34: 27.6\n",
      "Prediction for row 35: 44.4\n",
      "Prediction for row 36: 47.6\n",
      "Prediction for row 37: 54.2\n",
      "Prediction for row 38: 48.4\n"
     ]
    }
   ],
   "source": [
    "npl_data = npl_data.drop(columns=[\"version\", \"country_id\", \"instrument\", \"acq_date\", \"acq_time\", \"satellite\"])\n",
    "npl_data[\"daynight\"] = npl_data[\"daynight\"].map({\"D\": 1, \"N\": 0})\n",
    "npl_data = npl_data.drop(columns=[\"confidence\"])\n",
    "npl_data_scaled = scaler.transform(npl_data)\n",
    "npl_data_predictions = model.predict(npl_data_scaled)\n",
    "\n",
    "for i, pred in enumerate(npl_data_predictions):\n",
    "    print(f\"Prediction for row {i+1}: {pred:.1f}\")"
   ]
  },
  {
   "cell_type": "code",
   "execution_count": null,
   "id": "7cf4c87b",
   "metadata": {},
   "outputs": [],
   "source": []
  }
 ],
 "metadata": {
  "kernelspec": {
   "display_name": "base",
   "language": "python",
   "name": "python3"
  },
  "language_info": {
   "codemirror_mode": {
    "name": "ipython",
    "version": 3
   },
   "file_extension": ".py",
   "mimetype": "text/x-python",
   "name": "python",
   "nbconvert_exporter": "python",
   "pygments_lexer": "ipython3",
   "version": "3.12.7"
  }
 },
 "nbformat": 4,
 "nbformat_minor": 5
}
